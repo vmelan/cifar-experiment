{
 "cells": [
  {
   "cell_type": "code",
   "execution_count": 1,
   "metadata": {
    "collapsed": true
   },
   "outputs": [],
   "source": [
    "import warnings\n",
    "warnings.filterwarnings(\"ignore\")\n",
    "\n",
    "import os\n",
    "import cv2\n",
    "import pickle\n",
    "import numpy as np\n",
    "from matplotlib import pyplot as plt\n",
    "from sklearn.model_selection import train_test_split\n",
    "\n",
    "import tensorflow as tf\n",
    "\n",
    "tf.reset_default_graph()"
   ]
  },
  {
   "cell_type": "markdown",
   "metadata": {},
   "source": [
    "<h3>Load data</h3>"
   ]
  },
  {
   "cell_type": "code",
   "execution_count": 2,
   "metadata": {
    "collapsed": true
   },
   "outputs": [],
   "source": [
    "def unpickle(file):\n",
    "    with open(file, 'rb') as fo:\n",
    "        dict = pickle.load(fo, encoding='bytes')\n",
    "    return dict"
   ]
  },
  {
   "cell_type": "code",
   "execution_count": 3,
   "metadata": {
    "collapsed": true
   },
   "outputs": [],
   "source": [
    "def load_cifar10(data_path):\n",
    "\n",
    "    train_data = None\n",
    "    train_labels = []\n",
    "    test_data = None\n",
    "    test_labels = None\n",
    "\n",
    "\n",
    "    for i in range(1, 6):\n",
    "        data_dict = unpickle(data_path + \"data_batch_\" + str(i))\n",
    "        if (i == 1):\n",
    "            train_data = data_dict[b'data']\n",
    "        else:\n",
    "            train_data = np.vstack((train_data, data_dict[b'data']))\n",
    "        train_labels += data_dict[b'labels']\n",
    "\n",
    "    test_data_dict = unpickle(data_path + \"test_batch\")\n",
    "    test_data = test_data_dict[b'data']\n",
    "    test_labels = test_data_dict[b'labels']\n",
    "\n",
    "    train_data = train_data.reshape((50000, 3, 32, 32))\n",
    "    train_data = np.rollaxis(train_data, 1, 4)\n",
    "    train_labels = np.array(train_labels)\n",
    "    \n",
    "    test_data = test_data.reshape((10000, 3, 32, 32))\n",
    "    test_data = np.rollaxis(test_data, 1, 4)\n",
    "    test_labels = np.array(test_labels)\n",
    "    \n",
    "    return train_data, train_labels, test_data, test_labels"
   ]
  },
  {
   "cell_type": "code",
   "execution_count": 19,
   "metadata": {
    "collapsed": true
   },
   "outputs": [],
   "source": [
    "data_path = \"../../cifar-10-batches-py/\"\n",
    "train_data, train_labels, test_data, test_labels = load_cifar10(data_path)"
   ]
  },
  {
   "cell_type": "code",
   "execution_count": 20,
   "metadata": {},
   "outputs": [
    {
     "name": "stdout",
     "output_type": "stream",
     "text": [
      "train_data.shape: (50000, 32, 32, 3) train_labels.shape: (50000,)\n",
      "test_data.shape: (10000, 32, 32, 3) test_labels.shape: (10000,)\n"
     ]
    }
   ],
   "source": [
    "print(\"train_data.shape:\", train_data.shape, \"train_labels.shape:\", train_labels.shape)\n",
    "print(\"test_data.shape:\", test_data.shape, \"test_labels.shape:\", test_labels.shape)"
   ]
  },
  {
   "cell_type": "markdown",
   "metadata": {},
   "source": [
    "<h3>Data preprocessing</h3>"
   ]
  },
  {
   "cell_type": "code",
   "execution_count": 21,
   "metadata": {
    "collapsed": true
   },
   "outputs": [],
   "source": [
    "def scale_data(data):\n",
    "    \"\"\" \n",
    "    Scale the row pixel intensities to the range [0, 1]\n",
    "    \"\"\"\n",
    "    data = data.astype(np.float32) / 255.0\n",
    "    return data\n",
    "\n",
    "train_data = scale_data(train_data)\n",
    "test_data = scale_data(test_data)"
   ]
  },
  {
   "cell_type": "code",
   "execution_count": 22,
   "metadata": {},
   "outputs": [
    {
     "name": "stdout",
     "output_type": "stream",
     "text": [
      "train_data.shape:  (50000, 32, 32, 1)\n",
      "test_data.shape:  (10000, 32, 32, 1)\n"
     ]
    }
   ],
   "source": [
    "def convert_grayscale(data_image):\n",
    "    \"\"\"\n",
    "    Convert image to grayscale\n",
    "    \"\"\"\n",
    "    output = np.zeros((data_image.shape[:-1]))\n",
    "    for i, image in enumerate(data_image):\n",
    "        gray_image = cv2.cvtColor(image, cv2.COLOR_BGR2GRAY)\n",
    "        output[i] = gray_image\n",
    "\n",
    "    return output.reshape(-1, 32, 32, 1)\n",
    "    \n",
    "train_data = convert_grayscale(train_data)\n",
    "test_data = convert_grayscale(test_data)\n",
    "\n",
    "print(\"train_data.shape: \", train_data.shape)\n",
    "print(\"test_data.shape: \", test_data.shape)"
   ]
  },
  {
   "cell_type": "code",
   "execution_count": 13,
   "metadata": {
    "collapsed": true
   },
   "outputs": [],
   "source": [
    "# def one_hot_labels(label_data):\n",
    "#     \"\"\"\n",
    "#     One hot encode the labels\n",
    "#     \"\"\"\n",
    "#     label_data = tf.one_hot(label_data, depth=10)\n",
    "    \n",
    "#     return label_data\n",
    "\n",
    "# train_labels = one_hot_labels(train_labels)\n",
    "# test_labels = one_hot_labels(test_labels)"
   ]
  },
  {
   "cell_type": "code",
   "execution_count": 35,
   "metadata": {
    "collapsed": true
   },
   "outputs": [],
   "source": [
    "# with tf.Session() as sess:\n",
    "#     print(type(sess.run(train_labels)))\n",
    "#     print(sess.run(train_labels[:5]))"
   ]
  },
  {
   "cell_type": "code",
   "execution_count": 23,
   "metadata": {
    "collapsed": true
   },
   "outputs": [],
   "source": [
    "def one_hot_labels(label_data, num_classes=10):\n",
    "    \"\"\"\n",
    "    One hot encode the labels\n",
    "    \"\"\"\n",
    "    label_data = np.eye(num_classes)[label_data.reshape(-1)]\n",
    "    \n",
    "    return label_data\n",
    "\n",
    "train_labels = one_hot_labels(train_labels)\n",
    "test_labels = one_hot_labels(test_labels)"
   ]
  },
  {
   "cell_type": "code",
   "execution_count": 24,
   "metadata": {
    "scrolled": true
   },
   "outputs": [
    {
     "data": {
      "text/plain": [
       "array([[0., 0., 0., 0., 0., 0., 1., 0., 0., 0.],\n",
       "       [0., 0., 0., 0., 0., 0., 0., 0., 0., 1.],\n",
       "       [0., 0., 0., 0., 0., 0., 0., 0., 0., 1.],\n",
       "       [0., 0., 0., 0., 1., 0., 0., 0., 0., 0.],\n",
       "       [0., 1., 0., 0., 0., 0., 0., 0., 0., 0.]])"
      ]
     },
     "execution_count": 24,
     "metadata": {},
     "output_type": "execute_result"
    }
   ],
   "source": [
    "train_labels[:5]"
   ]
  },
  {
   "cell_type": "markdown",
   "metadata": {},
   "source": [
    "<h3>Train/validation split</h3>"
   ]
  },
  {
   "cell_type": "code",
   "execution_count": 25,
   "metadata": {},
   "outputs": [
    {
     "name": "stdout",
     "output_type": "stream",
     "text": [
      "X_train.shape: (45000, 32, 32, 1) y_train.shape (45000, 10)\n",
      "X_valid.shape: (5000, 32, 32, 1) y_valid.shape (5000, 10)\n"
     ]
    }
   ],
   "source": [
    "X_train, X_valid, y_train, y_valid = train_test_split(train_data, train_labels, \\\n",
    "                                                      test_size=0.1, \\\n",
    "                                                      random_state=42)\n",
    "\n",
    "print(\"X_train.shape:\", X_train.shape, \"y_train.shape\", y_train.shape)\n",
    "print(\"X_valid.shape:\", X_valid.shape, \"y_valid.shape\", y_valid.shape)"
   ]
  },
  {
   "cell_type": "markdown",
   "metadata": {},
   "source": [
    "<h3>LeNet model</h3>"
   ]
  },
  {
   "cell_type": "code",
   "execution_count": 26,
   "metadata": {
    "collapsed": true
   },
   "outputs": [],
   "source": [
    "def conv2d(input, num_input_channels, num_filters, filter_shape=[5, 5], strides=[1, 1], name=\"conv\"):\n",
    "\t\"\"\" Convolution layer \"\"\"\n",
    "\twith tf.name_scope(name):\n",
    "\t\tw = tf.Variable(tf.truncated_normal([filter_shape[0], filter_shape[1], num_input_channels, num_filters], \\\n",
    "\t\t\tstddev=0.02), name=name+\"_W\")\n",
    "\t\tb = tf.Variable(tf.constant(0.1, shape=[num_filters]), name=name+\"_b\")\n",
    "\n",
    "\t\t# conv, bias and then activation\n",
    "\t\toutput = tf.nn.conv2d(input, w, strides=[1, strides[0], strides[1], 1], padding='VALID')\n",
    "\t\toutput = tf.nn.bias_add(output, b)\n",
    "\t\toutput = tf.tanh(output)\n",
    "\n",
    "\t\treturn output\n",
    "\n",
    "def avgpool2d(input, filter_shape=[2, 2], strides=[2, 2], name=\"avgpool\"):\n",
    "\t\"\"\" Average Pooling layer \"\"\"\n",
    "\twith tf.name_scope(name):\n",
    "\t\treturn tf.nn.pool(input, pooling_type='AVG', \\\n",
    "\t\t\twindow_shape=[filter_shape[0], filter_shape[1]], \\\n",
    "\t\t\tstrides=[strides[0], strides[1]], padding='VALID', \\\n",
    "\t\t\tname=name)\n",
    "\n",
    "def fully_connected(input, neurons_in, neurons_out, act=True, name=\"fc\"):\n",
    "\t\"\"\" Fully connected layer \"\"\"\n",
    "\twith tf.name_scope(name):\n",
    "\t\tW = tf.Variable(tf.truncated_normal([neurons_in, neurons_out], stddev=0.02), name=name+\"_W\")\n",
    "\t\tb = tf.Variable(tf.constant(0.1, shape=[neurons_out]), name=name+\"_b\")\n",
    "\n",
    "\t\toutput = tf.add(tf.matmul(input, W), b)\n",
    "\n",
    "\t\tif act: # if True, use tanh activation function, otherwise do not apply any activation\n",
    "\t\t\treturn tf.tanh(output)\n",
    "\t\telse:\n",
    "\t\t\treturn output"
   ]
  },
  {
   "cell_type": "code",
   "execution_count": 27,
   "metadata": {
    "collapsed": true
   },
   "outputs": [],
   "source": [
    "def LeNet(input_image, name=\"LeNet\"):\n",
    "\n",
    "\twith tf.name_scope(name):\n",
    "\t\t# 1st conv layer : CONV + TANH + AVERAGE POOL \n",
    "\t\tconv_1 = conv2d(input_image, num_input_channels=1, num_filters=6, \\\n",
    "\t\t\tfilter_shape=[5, 5], strides=[1, 1], name=\"conv1\")\n",
    "\t\tavgpool_1 = avgpool2d(conv_1, filter_shape=[2, 2], \\\n",
    "\t\t\tstrides=[2, 2], name=\"avgpool1\")\n",
    "\n",
    "\t\t# 2nd conv layer : CONV + TANH + AVERAGE POOL\n",
    "\t\tconv_2 = conv2d(avgpool_1, num_input_channels=6, num_filters=16, \\\n",
    "\t\t\tfilter_shape=[5, 5], strides=[1, 1], name=\"conv_2\")\n",
    "\t\tavgpool_2 = avgpool2d(conv_2, filter_shape=[2, 2], \\\n",
    "\t\t\tstrides=[2, 2], name=\"avgpool2\")\n",
    "\n",
    "\t\t# 3rd conv layer : CONV + TANH\n",
    "\t\tconv_3 = conv2d(avgpool_2, num_input_channels=16, num_filters=120, \\\n",
    "\t\t\tfilter_shape=[5, 5], strides=[1, 1], name=\"conv3\")\n",
    "\n",
    "\t\t# Flatten \n",
    "\t\tflattened = tf.reshape(conv_3, [-1, 1 * 1 * 120])\n",
    "\n",
    "\t\t# Fully connected layer 1 : DENSE + TANH\n",
    "\t\tfc_1 = fully_connected(flattened, 120, 84, act=True, name=\"fc1\")\n",
    "\n",
    "\t\t# Output, Fully connected layer 2 : DENSE + RBF\n",
    "\t\tfc_2 = fully_connected(fc_1, 84, 10, act=False, name=\"fc2\")\n",
    "\n",
    "\t\toutput = fc_2 \n",
    "\t\t# output = rbf(fc_2, name=\"rbf\") \n",
    "\n",
    "\t\treturn output "
   ]
  },
  {
   "cell_type": "markdown",
   "metadata": {},
   "source": [
    "Define the TensorFlow operations for training"
   ]
  },
  {
   "cell_type": "code",
   "execution_count": 28,
   "metadata": {
    "scrolled": false
   },
   "outputs": [
    {
     "name": "stdout",
     "output_type": "stream",
     "text": [
      "logits.shape:  (?, 10)\n"
     ]
    }
   ],
   "source": [
    "# tf Graph input\n",
    "X = tf.placeholder(tf.float32, [None, 32, 32, 1])\n",
    "y = tf.placeholder(tf.float32, [None, 10])\n",
    "\n",
    "logits = LeNet(X)\n",
    "predictions = tf.nn.softmax(logits)\n",
    "\n",
    "print(\"logits.shape: \", logits.shape)\n",
    "# Evaluate model\n"
   ]
  },
  {
   "cell_type": "code",
   "execution_count": 29,
   "metadata": {
    "collapsed": true
   },
   "outputs": [],
   "source": [
    "def compute_loss_xent(logits, targets):\n",
    "\t\"\"\" Compute cross entropy as our loss function \"\"\"\n",
    "\twith tf.name_scope(\"cross_entropy\"):\n",
    "\t\t# Get rid of extra dimensions and cast targets into integers\n",
    "\t\ttargets = tf.squeeze(tf.cast(targets, tf.int32))\n",
    "\t\t# Calculate cross entropy from logits and targets\n",
    "\t\tcross_entropy = tf.nn.softmax_cross_entropy_with_logits_v2( \\\n",
    "\t\t\tlogits=logits, labels=targets)\n",
    "\t\t# Take the average loss across batch size\n",
    "\t\tcross_entropy_mean = tf.reduce_mean(cross_entropy, name=\"cross_entropy\")\n",
    "\n",
    "\t\treturn(cross_entropy_mean)\n",
    "\n",
    "def train_optimizer(loss_value, learning_rate=0.001, beta1=0.9, beta2=0.999, epsilon=1e-08):\n",
    "\t\"\"\" Use an AdamOptimizer to train the network \"\"\"\n",
    "\twith tf.name_scope(\"optimizer\"):\n",
    "\t\t# Create optimizer\n",
    "\t\tmy_optimizer = tf.train.AdamOptimizer(learning_rate=learning_rate, beta1=beta1, \\\n",
    "\t\t\tbeta2=beta2, epsilon=epsilon)\n",
    "\t\t# Initialize train step\n",
    "\t\ttrain_step = my_optimizer.minimize(loss_value)\n",
    "\n",
    "\t\treturn train_step\n",
    "\n",
    "def compute_accuracy(logits, targets):\n",
    "\t\"\"\" Compute the accuracy \"\"\"\n",
    "\twith tf.name_scope(\"accuracy\"):\n",
    "\t\tcorrect_prediction = tf.equal(tf.argmax(logits, 1), tf.argmax(targets, 1)) # or tf.nn.in_top_k(logits, targets, 1)\n",
    "\t\taccuracy = tf.reduce_mean(tf.cast(correct_prediction, tf.float32))\n",
    "\n",
    "\t\treturn accuracy\n"
   ]
  },
  {
   "cell_type": "code",
   "execution_count": 30,
   "metadata": {
    "collapsed": true
   },
   "outputs": [],
   "source": [
    "# Define the loss function and optimizer\n",
    "cost = compute_loss_xent(logits, targets=y)\n",
    "optimizer = train_optimizer(cost)\n",
    "\n",
    "# Evaluate model\n",
    "accuracy = compute_accuracy(logits, targets=y)"
   ]
  },
  {
   "cell_type": "code",
   "execution_count": 31,
   "metadata": {
    "collapsed": true
   },
   "outputs": [],
   "source": [
    "## Initializing all variables\n",
    "init = tf.global_variables_initializer()"
   ]
  },
  {
   "cell_type": "markdown",
   "metadata": {},
   "source": [
    "<h3>Launch the execution Graph</h3>"
   ]
  },
  {
   "cell_type": "code",
   "execution_count": 37,
   "metadata": {},
   "outputs": [
    {
     "name": "stdout",
     "output_type": "stream",
     "text": [
      "Epoch: 001 loss= 2.12400 Training accuracy: 0.26562\n",
      "Epoch: 002 loss= 2.10584 Training accuracy: 0.28906\n",
      "Epoch: 003 loss= 2.09809 Training accuracy: 0.31250\n",
      "Epoch: 004 loss= 2.10334 Training accuracy: 0.32031\n",
      "Epoch: 005 loss= 2.09133 Training accuracy: 0.31250\n",
      "Epoch: 006 loss= 2.06612 Training accuracy: 0.31250\n",
      "Epoch: 007 loss= 2.03537 Training accuracy: 0.29688\n",
      "Epoch: 008 loss= 2.00568 Training accuracy: 0.32812\n",
      "Epoch: 009 loss= 1.97046 Training accuracy: 0.32812\n",
      "Epoch: 010 loss= 1.93769 Training accuracy: 0.35156\n",
      "Epoch: 011 loss= 1.90964 Training accuracy: 0.37500\n",
      "Epoch: 012 loss= 1.88287 Training accuracy: 0.35938\n",
      "Epoch: 013 loss= 1.85540 Training accuracy: 0.35156\n",
      "Epoch: 014 loss= 1.82537 Training accuracy: 0.36719\n",
      "Epoch: 015 loss= 1.79135 Training accuracy: 0.38281\n",
      "Epoch: 016 loss= 1.75475 Training accuracy: 0.39062\n",
      "Epoch: 017 loss= 1.71714 Training accuracy: 0.39062\n",
      "Epoch: 018 loss= 1.67875 Training accuracy: 0.41406\n",
      "Epoch: 019 loss= 1.63970 Training accuracy: 0.46094\n",
      "Epoch: 020 loss= 1.59967 Training accuracy: 0.47656\n",
      "Training complete\n"
     ]
    }
   ],
   "source": [
    "epochs = 20\n",
    "num_batches = 74\n",
    "batch_size = 128\n",
    "display_step = 1\n",
    "\n",
    "with tf.Session() as sess:\n",
    "    sess.run(init)\n",
    "    for i in range(epochs):\n",
    "        for j in range(num_batches):\n",
    "            batch_x = X_train[(j * batch_size):((j + 1) * batch_size)]\n",
    "            batch_y = y_train[(j * batch_size):((j + 1) * batch_size)]\n",
    "            sess.run(optimizer, feed_dict={X:batch_x, y:batch_y})\n",
    "            loss, acc = sess.run([cost, accuracy], feed_dict={X:batch_x, y:batch_y})\n",
    "        \n",
    "        if (epochs % display_step) == 0:\n",
    "            print(\"Epoch:\", \"%03d\" % (i + 1), \\\n",
    "                  \"loss=\", \"%.5f\" % (loss), \\\n",
    "                  \"Training accuracy:\", \"%.5f\" % (acc))\n",
    "    print(\"Training complete\")"
   ]
  },
  {
   "cell_type": "code",
   "execution_count": null,
   "metadata": {
    "collapsed": true
   },
   "outputs": [],
   "source": []
  }
 ],
 "metadata": {
  "kernelspec": {
   "display_name": "Python 3",
   "language": "python",
   "name": "python3"
  },
  "language_info": {
   "codemirror_mode": {
    "name": "ipython",
    "version": 3
   },
   "file_extension": ".py",
   "mimetype": "text/x-python",
   "name": "python",
   "nbconvert_exporter": "python",
   "pygments_lexer": "ipython3",
   "version": "3.6.2"
  }
 },
 "nbformat": 4,
 "nbformat_minor": 2
}
