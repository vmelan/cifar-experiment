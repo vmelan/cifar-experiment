{
 "cells": [
  {
   "cell_type": "markdown",
   "metadata": {},
   "source": [
    "<h2 style=\"text-align:center\">LeNet in TensorFlow</h2>"
   ]
  },
  {
   "cell_type": "code",
   "execution_count": 1,
   "metadata": {
    "collapsed": true
   },
   "outputs": [],
   "source": [
    "import warnings\n",
    "warnings.filterwarnings(\"ignore\")\n",
    "\n",
    "import os\n",
    "import cv2\n",
    "import pickle\n",
    "import numpy as np\n",
    "from matplotlib import pyplot as plt\n",
    "from sklearn.model_selection import train_test_split\n",
    "\n",
    "import tensorflow as tf\n",
    "\n",
    "tf.reset_default_graph()\n",
    "experiment = \"LeNet_exp\""
   ]
  },
  {
   "cell_type": "markdown",
   "metadata": {},
   "source": [
    "<h3>Load data</h3>"
   ]
  },
  {
   "cell_type": "code",
   "execution_count": 2,
   "metadata": {
    "collapsed": true
   },
   "outputs": [],
   "source": [
    "def unpickle(file):\n",
    "    with open(file, 'rb') as fo:\n",
    "        dict = pickle.load(fo, encoding='bytes')\n",
    "    return dict"
   ]
  },
  {
   "cell_type": "code",
   "execution_count": 3,
   "metadata": {
    "collapsed": true
   },
   "outputs": [],
   "source": [
    "def load_cifar10(data_path):\n",
    "\n",
    "    train_data = None\n",
    "    train_labels = []\n",
    "    test_data = None\n",
    "    test_labels = None\n",
    "\n",
    "\n",
    "    for i in range(1, 6):\n",
    "        data_dict = unpickle(data_path + \"data_batch_\" + str(i))\n",
    "        if (i == 1):\n",
    "            train_data = data_dict[b'data']\n",
    "        else:\n",
    "            train_data = np.vstack((train_data, data_dict[b'data']))\n",
    "        train_labels += data_dict[b'labels']\n",
    "\n",
    "    test_data_dict = unpickle(data_path + \"test_batch\")\n",
    "    test_data = test_data_dict[b'data']\n",
    "    test_labels = test_data_dict[b'labels']\n",
    "\n",
    "    train_data = train_data.reshape((50000, 3, 32, 32))\n",
    "    train_data = np.rollaxis(train_data, 1, 4)\n",
    "    train_labels = np.array(train_labels)\n",
    "    \n",
    "    test_data = test_data.reshape((10000, 3, 32, 32))\n",
    "    test_data = np.rollaxis(test_data, 1, 4)\n",
    "    test_labels = np.array(test_labels)\n",
    "    \n",
    "    return train_data, train_labels, test_data, test_labels"
   ]
  },
  {
   "cell_type": "code",
   "execution_count": 4,
   "metadata": {
    "collapsed": true
   },
   "outputs": [],
   "source": [
    "data_path = \"../../cifar-10-batches-py/\"\n",
    "train_data, train_labels, test_data, test_labels = load_cifar10(data_path)"
   ]
  },
  {
   "cell_type": "code",
   "execution_count": 5,
   "metadata": {},
   "outputs": [
    {
     "name": "stdout",
     "output_type": "stream",
     "text": [
      "train_data.shape: (50000, 32, 32, 3) train_labels.shape: (50000,)\n",
      "test_data.shape: (10000, 32, 32, 3) test_labels.shape: (10000,)\n"
     ]
    }
   ],
   "source": [
    "print(\"train_data.shape:\", train_data.shape, \"train_labels.shape:\", train_labels.shape)\n",
    "print(\"test_data.shape:\", test_data.shape, \"test_labels.shape:\", test_labels.shape)"
   ]
  },
  {
   "cell_type": "markdown",
   "metadata": {},
   "source": [
    "<h3>Data preprocessing</h3>"
   ]
  },
  {
   "cell_type": "code",
   "execution_count": 6,
   "metadata": {
    "collapsed": true
   },
   "outputs": [],
   "source": [
    "def scale_data(data):\n",
    "    \"\"\" \n",
    "    Scale the row pixel intensities to the range [0, 1]\n",
    "    \"\"\"\n",
    "    data = data.astype(np.float32) / 255.0\n",
    "    return data\n",
    "\n",
    "train_data = scale_data(train_data)\n",
    "test_data = scale_data(test_data)"
   ]
  },
  {
   "cell_type": "code",
   "execution_count": 7,
   "metadata": {},
   "outputs": [
    {
     "name": "stdout",
     "output_type": "stream",
     "text": [
      "train_data.shape:  (50000, 32, 32, 1)\n",
      "test_data.shape:  (10000, 32, 32, 1)\n"
     ]
    }
   ],
   "source": [
    "def convert_grayscale(data_image):\n",
    "    \"\"\"\n",
    "    Convert image to grayscale\n",
    "    \"\"\"\n",
    "    output = np.zeros((data_image.shape[:-1]))\n",
    "    for i, image in enumerate(data_image):\n",
    "        gray_image = cv2.cvtColor(image, cv2.COLOR_BGR2GRAY)\n",
    "        output[i] = gray_image\n",
    "\n",
    "    return output.reshape(-1, 32, 32, 1)\n",
    "    \n",
    "train_data = convert_grayscale(train_data)\n",
    "test_data = convert_grayscale(test_data)\n",
    "\n",
    "print(\"train_data.shape: \", train_data.shape)\n",
    "print(\"test_data.shape: \", test_data.shape)"
   ]
  },
  {
   "cell_type": "code",
   "execution_count": 8,
   "metadata": {},
   "outputs": [
    {
     "name": "stdout",
     "output_type": "stream",
     "text": [
      "[[0. 0. 0. 0. 0. 0. 1. 0. 0. 0.]\n",
      " [0. 0. 0. 0. 0. 0. 0. 0. 0. 1.]\n",
      " [0. 0. 0. 0. 0. 0. 0. 0. 0. 1.]\n",
      " [0. 0. 0. 0. 1. 0. 0. 0. 0. 0.]\n",
      " [0. 1. 0. 0. 0. 0. 0. 0. 0. 0.]]\n"
     ]
    }
   ],
   "source": [
    "def one_hot_labels(label_data, num_classes=10):\n",
    "    \"\"\"\n",
    "    One hot encode the labels\n",
    "    \"\"\"\n",
    "    label_data = np.eye(num_classes)[label_data.reshape(-1)]\n",
    "    \n",
    "    return label_data\n",
    "\n",
    "train_labels = one_hot_labels(train_labels)\n",
    "test_labels = one_hot_labels(test_labels)\n",
    "\n",
    "print(train_labels[:5])"
   ]
  },
  {
   "cell_type": "markdown",
   "metadata": {},
   "source": [
    "<h3>Train/validation split</h3>"
   ]
  },
  {
   "cell_type": "code",
   "execution_count": 9,
   "metadata": {},
   "outputs": [
    {
     "name": "stdout",
     "output_type": "stream",
     "text": [
      "X_train.shape: (45000, 32, 32, 1) y_train.shape (45000, 10)\n",
      "X_valid.shape: (5000, 32, 32, 1) y_valid.shape (5000, 10)\n"
     ]
    }
   ],
   "source": [
    "X_train, X_valid, y_train, y_valid = train_test_split(train_data, train_labels, \\\n",
    "                                                      test_size=0.1, \\\n",
    "                                                      random_state=42)\n",
    "\n",
    "print(\"X_train.shape:\", X_train.shape, \"y_train.shape\", y_train.shape)\n",
    "print(\"X_valid.shape:\", X_valid.shape, \"y_valid.shape\", y_valid.shape)"
   ]
  },
  {
   "cell_type": "markdown",
   "metadata": {},
   "source": [
    "<h3>LeNet model</h3>"
   ]
  },
  {
   "cell_type": "code",
   "execution_count": 10,
   "metadata": {
    "collapsed": true
   },
   "outputs": [],
   "source": [
    "class LeNet():\n",
    "    def __init__(self):\n",
    "        pass\n",
    "\n",
    "    def forward(self, input_image, name=\"LeNet\"):\n",
    "        \"\"\" Forward pass of the network \"\"\"\n",
    "        with tf.name_scope(name):\n",
    "            # 1st conv layer : CONV + TANH + AVERAGE POOL \n",
    "            conv_1 = self.conv2d(input_image, num_input_channels=1, num_filters=6, \\\n",
    "                filter_shape=[5, 5], strides=[1, 1], name=\"conv1\")\n",
    "            avgpool_1 = self.avgpool2d(conv_1, filter_shape=[2, 2], \\\n",
    "                strides=[2, 2], name=\"avgpool1\")\n",
    "\n",
    "            # 2nd conv layer : CONV + TANH + AVERAGE POOL\n",
    "            conv_2 = self.conv2d(avgpool_1, num_input_channels=6, num_filters=16, \\\n",
    "                filter_shape=[5, 5], strides=[1, 1], name=\"conv_2\")\n",
    "            avgpool_2 = self.avgpool2d(conv_2, filter_shape=[2, 2], \\\n",
    "                strides=[2, 2], name=\"avgpool2\")\n",
    "\n",
    "            # 3rd conv layer : CONV + TANH\n",
    "            conv_3 = self.conv2d(avgpool_2, num_input_channels=16, num_filters=120, \\\n",
    "                filter_shape=[5, 5], strides=[1, 1], name=\"conv3\")\n",
    "\n",
    "            # Flatten \n",
    "            flattened = tf.reshape(conv_3, [-1, 1 * 1 * 120])\n",
    "\n",
    "            # Fully connected layer 1 : DENSE + TANH\n",
    "            fc_1 = self.fully_connected(flattened, 120, 84, act=True, name=\"fc1\")\n",
    "\n",
    "            # Output, Fully connected layer 2 : DENSE + RBF\n",
    "            fc_2 = self.fully_connected(fc_1, 84, 10, act=False, name=\"fc2\")\n",
    "            \n",
    "            output = fc_2 \n",
    "            \n",
    "            # output should not have softmax as it is inside tf.nn.softmax_cross_entropy_with_logits_v2\n",
    "            # output = rbf(fc_2, name=\"rbf\") \n",
    "\n",
    "            return output \n",
    "        \n",
    "    def train_optimizer(self, loss_value, learning_rate, beta1=0.9, beta2=0.999, epsilon=1e-08):\n",
    "        \"\"\" Use an AdamOptimizer to train the network \"\"\"\n",
    "        with tf.name_scope(\"optimizer\"):\n",
    "            # Create optimizer\n",
    "            my_optimizer = tf.train.AdamOptimizer(learning_rate=learning_rate, beta1=beta1, \\\n",
    "                beta2=beta2, epsilon=epsilon)\n",
    "            # Initialize train step\n",
    "            train_step = my_optimizer.minimize(loss_value)\n",
    "\n",
    "            return train_step\n",
    "\n",
    "    def conv2d(self, input, num_input_channels, num_filters, filter_shape=[5, 5], strides=[1, 1], name=\"conv\"):\n",
    "        \"\"\" Convolution layer \"\"\"\n",
    "        with tf.name_scope(name):\n",
    "            w = tf.Variable(tf.truncated_normal([filter_shape[0], filter_shape[1], num_input_channels, num_filters], \\\n",
    "                stddev=0.02), name=name+\"_W\")\n",
    "            b = tf.Variable(tf.constant(0.1, shape=[num_filters]), name=name+\"_b\")\n",
    "\n",
    "            # conv, bias and then activation\n",
    "            output = tf.nn.conv2d(input, w, strides=[1, strides[0], strides[1], 1], padding='VALID')\n",
    "            output = tf.nn.bias_add(output, b)\n",
    "            output = tf.tanh(output)\n",
    "\n",
    "            return output\n",
    "\n",
    "    def avgpool2d(self, input, filter_shape=[2, 2], strides=[2, 2], name=\"avgpool\"):\n",
    "        \"\"\" Average Pooling layer \"\"\"\n",
    "        with tf.name_scope(name):\n",
    "            return tf.nn.pool(input, pooling_type='AVG', \\\n",
    "                window_shape=[filter_shape[0], filter_shape[1]], \\\n",
    "                strides=[strides[0], strides[1]], padding='VALID', \\\n",
    "                name=name)\n",
    "\n",
    "    def fully_connected(self, input, neurons_in, neurons_out, act=True, name=\"fc\"):\n",
    "        \"\"\" Fully connected layer \"\"\"\n",
    "        with tf.name_scope(name):\n",
    "            W = tf.Variable(tf.truncated_normal([neurons_in, neurons_out], stddev=0.02), name=name+\"_W\")\n",
    "            b = tf.Variable(tf.constant(0.1, shape=[neurons_out]), name=name+\"_b\")\n",
    "\n",
    "            output = tf.add(tf.matmul(input, W), b)\n",
    "\n",
    "            if act: # if True, use tanh activation function, otherwise do not apply any activation\n",
    "                return tf.tanh(output)\n",
    "            else:\n",
    "                return output"
   ]
  },
  {
   "cell_type": "markdown",
   "metadata": {},
   "source": [
    "Define the TensorFlow operations for training"
   ]
  },
  {
   "cell_type": "code",
   "execution_count": 11,
   "metadata": {
    "scrolled": false
   },
   "outputs": [
    {
     "name": "stdout",
     "output_type": "stream",
     "text": [
      "logits.shape:  (?, 10)\n"
     ]
    }
   ],
   "source": [
    "# tf Graph input\n",
    "X = tf.placeholder(tf.float32, [None, 32, 32, 1])\n",
    "y = tf.placeholder(tf.float32, [None, 10])\n",
    "\n",
    "LeNet = LeNet()\n",
    "logits = LeNet.forward(X)\n",
    "\n",
    "print(\"logits.shape: \", logits.shape)\n",
    "# Evaluate model\n"
   ]
  },
  {
   "cell_type": "code",
   "execution_count": 12,
   "metadata": {
    "collapsed": true
   },
   "outputs": [],
   "source": [
    "def compute_loss_xent(logits, targets):\n",
    "    \"\"\" Compute cross entropy as our loss function \"\"\"\n",
    "    with tf.name_scope(\"cross_entropy\"):\n",
    "        # Get rid of extra dimensions and cast targets into integers\n",
    "        targets = tf.squeeze(tf.cast(targets, tf.int32))\n",
    "        # Calculate cross entropy from logits and targets\n",
    "        cross_entropy = tf.nn.softmax_cross_entropy_with_logits_v2( \\\n",
    "            logits=logits, labels=targets)\n",
    "        # Take the average loss across batch size\n",
    "        cross_entropy_mean = tf.reduce_mean(cross_entropy, name=\"cross_entropy\")\n",
    "\n",
    "        return cross_entropy_mean\n",
    "\n",
    "def compute_accuracy(logits, targets):\n",
    "    \"\"\" Compute the accuracy \"\"\"\n",
    "    with tf.name_scope(\"accuracy\"):\n",
    "        correct_prediction = tf.equal(tf.argmax(logits, 1), tf.argmax(targets, 1)) # or tf.nn.in_top_k(logits, targets, 1)\n",
    "        accuracy = tf.reduce_mean(tf.cast(correct_prediction, tf.float32))\n",
    "\n",
    "        return accuracy"
   ]
  },
  {
   "cell_type": "code",
   "execution_count": 13,
   "metadata": {},
   "outputs": [],
   "source": [
    "# Define the loss function and optimizer\n",
    "cost = compute_loss_xent(logits, targets=y)\n",
    "optimizer = LeNet.train_optimizer(cost, learning_rate=0.001, beta1=0.9, beta2=0.999, epsilon=1e-08)\n",
    "\n",
    "# Evaluate model\n",
    "accuracy = compute_accuracy(logits, targets=y)"
   ]
  },
  {
   "cell_type": "code",
   "execution_count": 14,
   "metadata": {
    "collapsed": true
   },
   "outputs": [],
   "source": [
    "## Initializing all variables\n",
    "init = tf.global_variables_initializer()"
   ]
  },
  {
   "cell_type": "markdown",
   "metadata": {},
   "source": [
    "<h3>Merging all summaries</h3>"
   ]
  },
  {
   "cell_type": "code",
   "execution_count": null,
   "metadata": {
    "collapsed": true
   },
   "outputs": [],
   "source": [
    "# merged_summary = tf.summary.merge_all()"
   ]
  },
  {
   "cell_type": "markdown",
   "metadata": {},
   "source": [
    "<h3>Launch the execution Graph</h3>"
   ]
  },
  {
   "cell_type": "code",
   "execution_count": null,
   "metadata": {},
   "outputs": [
    {
     "name": "stdout",
     "output_type": "stream",
     "text": [
      "Epoch: 001, loss= 2.14534, train accuracy: 0.20312\n",
      "Epoch: 002, loss= 2.10691, train accuracy: 0.24219\n",
      "Epoch: 003, loss= 2.09421, train accuracy: 0.30469\n",
      "Epoch: 004, loss= 2.09041, train accuracy: 0.32031\n",
      "Epoch: 005, loss= 2.07613, train accuracy: 0.33594\n",
      "Epoch: 006, loss= 2.06775, train accuracy: 0.32812\n",
      "Epoch: 007, loss= 2.04855, train accuracy: 0.31250\n",
      "Epoch: 008, loss= 2.01137, train accuracy: 0.32812\n",
      "Epoch: 009, loss= 1.97463, train accuracy: 0.34375\n",
      "Epoch: 010, loss= 1.94257, train accuracy: 0.35156\n",
      "Epoch: 011, loss= 1.91256, train accuracy: 0.36719\n",
      "Epoch: 012, loss= 1.88380, train accuracy: 0.40625\n",
      "Epoch: 013, loss= 1.85615, train accuracy: 0.41406\n",
      "Epoch: 014, loss= 1.82527, train accuracy: 0.39844\n",
      "Epoch: 015, loss= 1.78795, train accuracy: 0.40625\n",
      "Epoch: 016, loss= 1.74757, train accuracy: 0.41406\n",
      "Epoch: 017, loss= 1.70612, train accuracy: 0.39844\n"
     ]
    }
   ],
   "source": [
    "epochs = 20\n",
    "num_batches = 74\n",
    "batch_size = 128\n",
    "display_step = 1\n",
    "\n",
    "with tf.Session() as sess:\n",
    "    sess.run(init)\n",
    "    # Visualizing the Graph\n",
    "    writer = tf.summary.FileWriter(\"./tensorboard/\" + experiment)\n",
    "    writer.add_graph(sess.graph)\n",
    "    \n",
    "    for i in range(epochs):\n",
    "        for j in range(num_batches):\n",
    "            batch_x = X_train[(j * batch_size):((j + 1) * batch_size)]\n",
    "            batch_y = y_train[(j * batch_size):((j + 1) * batch_size)]\n",
    "            sess.run(optimizer, feed_dict={X:batch_x, y:batch_y})\n",
    "            loss, acc = sess.run([cost, accuracy], feed_dict={X:batch_x, y:batch_y})\n",
    "        \n",
    "        if (epochs % display_step) == 0:\n",
    "            print(\"Epoch:\", \"%03d,\" % (i + 1), \\\n",
    "                  \"loss=\", \"%.5f,\" % (loss), \\\n",
    "                  \"train accuracy:\", \"%.5f\" % (acc))\n",
    "    print(\"Training complete\")"
   ]
  },
  {
   "cell_type": "code",
   "execution_count": null,
   "metadata": {
    "collapsed": true
   },
   "outputs": [],
   "source": []
  }
 ],
 "metadata": {
  "kernelspec": {
   "display_name": "Python 3",
   "language": "python",
   "name": "python3"
  },
  "language_info": {
   "codemirror_mode": {
    "name": "ipython",
    "version": 3
   },
   "file_extension": ".py",
   "mimetype": "text/x-python",
   "name": "python",
   "nbconvert_exporter": "python",
   "pygments_lexer": "ipython3",
   "version": "3.6.2"
  }
 },
 "nbformat": 4,
 "nbformat_minor": 2
}
