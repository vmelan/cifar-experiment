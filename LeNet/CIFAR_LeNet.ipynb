{
 "cells": [
  {
   "cell_type": "markdown",
   "metadata": {},
   "source": [
    "<h1 style=\"text-align:center; color:MediumSlateBlue;\">LeNet on CIFAR-10 dataset</h1>"
   ]
  },
  {
   "cell_type": "markdown",
   "metadata": {},
   "source": [
    "<h3>Import libraries & packages</h3>"
   ]
  },
  {
   "cell_type": "code",
   "execution_count": 1,
   "metadata": {},
   "outputs": [
    {
     "name": "stderr",
     "output_type": "stream",
     "text": [
      "Using TensorFlow backend.\n"
     ]
    }
   ],
   "source": [
    "import warnings\n",
    "warnings.filterwarnings(\"ignore\")\n",
    "\n",
    "import pickle\n",
    "import numpy as np\n",
    "from matplotlib import pyplot as plt\n",
    "from sklearn.model_selection import train_test_split\n",
    "\n",
    "import tensorflow as tf\n",
    "from keras.utils import to_categorical\n",
    "from keras.layers import Input, Dense, Flatten, Lambda\n",
    "from keras.layers import Conv2D, Activation, AveragePooling2D\n",
    "from keras.models import Model\n",
    "from keras.models import model_from_json\n",
    "from keras.initializers import glorot_uniform\n",
    "from keras.optimizers import Adam\n",
    "from keras.callbacks import ModelCheckpoint\n",
    "import keras.backend as K"
   ]
  },
  {
   "cell_type": "markdown",
   "metadata": {},
   "source": [
    "<h3>Load data</h3>"
   ]
  },
  {
   "cell_type": "code",
   "execution_count": 2,
   "metadata": {
    "collapsed": true
   },
   "outputs": [],
   "source": [
    "def unpickle(file):\n",
    "    with open(file, 'rb') as fo:\n",
    "        dict = pickle.load(fo, encoding='bytes')\n",
    "    return dict"
   ]
  },
  {
   "cell_type": "code",
   "execution_count": 3,
   "metadata": {
    "collapsed": true
   },
   "outputs": [],
   "source": [
    "def load_cifar10(data_path):\n",
    "\n",
    "    train_data = None\n",
    "    train_labels = []\n",
    "    test_data = None\n",
    "    test_labels = None\n",
    "\n",
    "\n",
    "    for i in range(1, 6):\n",
    "        data_dict = unpickle(data_path + \"data_batch_\" + str(i))\n",
    "        if (i == 1):\n",
    "            train_data = data_dict[b'data']\n",
    "        else:\n",
    "            train_data = np.vstack((train_data, data_dict[b'data']))\n",
    "        train_labels += data_dict[b'labels']\n",
    "\n",
    "    test_data_dict = unpickle(data_path + \"test_batch\")\n",
    "    test_data = test_data_dict[b'data']\n",
    "    test_labels = test_data_dict[b'labels']\n",
    "\n",
    "    train_data = train_data.reshape((50000, 3, 32, 32))\n",
    "    train_data = np.rollaxis(train_data, 1, 4)\n",
    "    train_labels = np.array(train_labels)\n",
    "    \n",
    "    test_data = test_data.reshape((10000, 3, 32, 32))\n",
    "    test_data = np.rollaxis(test_data, 1, 4)\n",
    "    test_labels = np.array(test_labels)\n",
    "    \n",
    "    return train_data, train_labels, test_data, test_labels"
   ]
  },
  {
   "cell_type": "code",
   "execution_count": 4,
   "metadata": {
    "collapsed": true
   },
   "outputs": [],
   "source": [
    "data_path = \"../cifar-10-batches-py/\"\n",
    "train_data, train_labels, test_data, test_labels = load_cifar10(data_path)"
   ]
  },
  {
   "cell_type": "code",
   "execution_count": 5,
   "metadata": {},
   "outputs": [
    {
     "name": "stdout",
     "output_type": "stream",
     "text": [
      "train_data.shape: (50000, 32, 32, 3) train_labels.shape: (50000,)\n",
      "test_data.shape: (10000, 32, 32, 3) test_labels.shape: (10000,)\n"
     ]
    }
   ],
   "source": [
    "print(\"train_data.shape:\", train_data.shape, \"train_labels.shape:\", train_labels.shape)\n",
    "print(\"test_data.shape:\", test_data.shape, \"test_labels.shape:\", test_labels.shape)"
   ]
  },
  {
   "cell_type": "markdown",
   "metadata": {},
   "source": [
    "Test"
   ]
  },
  {
   "cell_type": "code",
   "execution_count": 6,
   "metadata": {},
   "outputs": [
    {
     "data": {
      "image/png": "[encoded data removed]",
      "text/plain": [
       "<matplotlib.figure.Figure at 0x1f0394f2278>"
      ]
     },
     "metadata": {},
     "output_type": "display_data"
    }
   ],
   "source": [
    "plt.imshow(train_data[-1])\n",
    "plt.show()"
   ]
  },
  {
   "cell_type": "markdown",
   "metadata": {},
   "source": [
    "<h3>Data preprocessing</h3>"
   ]
  },
  {
   "cell_type": "code",
   "execution_count": 7,
   "metadata": {
    "collapsed": true
   },
   "outputs": [],
   "source": [
    "def scale_data(data):\n",
    "    \"\"\" \n",
    "    Scale the row pixel intensities to the range [0, 1]\n",
    "    \"\"\"\n",
    "    data = data.astype(np.float32) / 255.0\n",
    "    return data\n",
    "\n",
    "train_data = scale_data(train_data)\n",
    "test_data = scale_data(test_data)"
   ]
  },
  {
   "cell_type": "code",
   "execution_count": 8,
   "metadata": {
    "collapsed": true
   },
   "outputs": [],
   "source": [
    "def one_hot_labels(label_data):\n",
    "    \"\"\"\n",
    "    One hot encode the labels\n",
    "    \"\"\"\n",
    "    label_data = to_categorical(label_data, num_classes=10)\n",
    "    \n",
    "    return label_data\n",
    "\n",
    "train_labels = one_hot_labels(train_labels)\n",
    "test_labels = one_hot_labels(test_labels)"
   ]
  },
  {
   "cell_type": "code",
   "execution_count": 9,
   "metadata": {},
   "outputs": [
    {
     "data": {
      "text/plain": [
       "((50000, 10), (10000, 10))"
      ]
     },
     "execution_count": 9,
     "metadata": {},
     "output_type": "execute_result"
    }
   ],
   "source": [
    "train_labels.shape, test_labels.shape"
   ]
  },
  {
   "cell_type": "markdown",
   "metadata": {},
   "source": [
    "<h3>Train/validation split</h3>"
   ]
  },
  {
   "cell_type": "code",
   "execution_count": 10,
   "metadata": {
    "scrolled": true
   },
   "outputs": [
    {
     "name": "stdout",
     "output_type": "stream",
     "text": [
      "X_train.shape: (45000, 32, 32, 3) y_train.shape (45000, 10)\n",
      "X_valid.shape: (5000, 32, 32, 3) y_valid.shape (5000, 10)\n"
     ]
    }
   ],
   "source": [
    "X_train, X_valid, y_train, y_valid = train_test_split(train_data, train_labels, \\\n",
    "                                                      test_size=0.1, \\\n",
    "                                                      random_state=42)\n",
    "\n",
    "print(\"X_train.shape:\", X_train.shape, \"y_train.shape\", y_train.shape)\n",
    "print(\"X_valid.shape:\", X_valid.shape, \"y_valid.shape\", y_valid.shape)"
   ]
  },
  {
   "cell_type": "markdown",
   "metadata": {},
   "source": [
    "<h3>Building LeNet model</h3>"
   ]
  },
  {
   "cell_type": "code",
   "execution_count": 11,
   "metadata": {
    "collapsed": true
   },
   "outputs": [],
   "source": [
    "def convert_gray(image):\n",
    "    return tf.image.rgb_to_grayscale(image)"
   ]
  },
  {
   "cell_type": "code",
   "execution_count": 12,
   "metadata": {
    "collapsed": true
   },
   "outputs": [],
   "source": [
    "def LeNet_model(input_shape, num_classes):\n",
    "    \n",
    "    # Define the input as a tensor with shape input_shape\n",
    "    X_input = Input(shape=input_shape, name=\"Input\")\n",
    "    \n",
    "    X = Lambda(convert_gray, input_shape=(32, 32, 3), output_shape=(32, 32, 1), name=\"Grayscale\")(X_input)\n",
    "    \n",
    "    # 1st CONV LAYER: # filters->6; filter size->(5, 5); no pad;  \n",
    "    X = Conv2D(filters=6, kernel_size=(5, 5), strides=(1, 1), \\\n",
    "               kernel_initializer=glorot_uniform(seed=0), \\\n",
    "               padding=\"valid\", \\\n",
    "               name=\"Conv_1\")(X)\n",
    "    # Add non linearity activation function with Rectified Linear Unit (ReLU)\n",
    "    X = Activation(\"tanh\", name=\"Tanh_1\")(X)\n",
    "    # Average Pooling Layer\n",
    "    X = AveragePooling2D(pool_size=(2, 2), name=\"AvgPool_1\")(X)\n",
    "    \n",
    "    # 2nd CONV LAYER: #filters->16; filter size->(5, 5); no pad\n",
    "    X = Conv2D(filters=16, kernel_size=(5, 5), strides=(1, 1), \\\n",
    "               kernel_initializer=glorot_uniform(seed=0), \\\n",
    "               padding=\"valid\", \\\n",
    "               name=\"Conv_2\")(X)\n",
    "    X = Activation(\"tanh\", name=\"Tanh_2\")(X)\n",
    "    X = AveragePooling2D(pool_size=(2, 2), name=\"AvgPool_2\")(X)\n",
    "    \n",
    "    # 3rd CONV LAYER: #filters->120; filter size->(5, 5); no pad\n",
    "    X = Conv2D(filters=120, kernel_size=(5, 5), strides=(1, 1), \\\n",
    "               kernel_initializer=glorot_uniform(seed=0), \\\n",
    "               padding=\"valid\", \\\n",
    "               name=\"Conv_3\")(X)\n",
    "    X = Activation(\"tanh\", name=\"Tanh_3\")(X)\n",
    "    # Flatten\n",
    "    X = Flatten(name=\"Flatten\")(X)\n",
    "    \n",
    "    # 1st Fully Connected layer (FC)\n",
    "    X = Dense(84, name=\"FC_1\")(X)\n",
    "    X = Activation(\"tanh\", name=\"Tanh_4\")(X)\n",
    "    \n",
    "    # Output with Gaussian connections\n",
    "    X = Dense(num_classes, name=\"FC_2\")(X)\n",
    "\n",
    "    def gaussian(x):\n",
    "        return K.exp(-K.pow(x, 2))\n",
    "    \n",
    "    X = Activation(gaussian, name=\"rbf\")(X)\n",
    "    \n",
    "    # Create model\n",
    "    model = Model(inputs=X_input, outputs=X, name=\"LeNet\")\n",
    "    \n",
    "    return model"
   ]
  },
  {
   "cell_type": "code",
   "execution_count": 13,
   "metadata": {
    "collapsed": true
   },
   "outputs": [],
   "source": [
    "model = LeNet_model(input_shape=(32, 32, 3), num_classes= y_train.shape[-1])"
   ]
  },
  {
   "cell_type": "markdown",
   "metadata": {},
   "source": [
    "We can take a peek at the overall structure we just made by calling the method <i>summary()</i>:"
   ]
  },
  {
   "cell_type": "code",
   "execution_count": 14,
   "metadata": {},
   "outputs": [
    {
     "name": "stdout",
     "output_type": "stream",
     "text": [
      "_________________________________________________________________\n",
      "Layer (type)                 Output Shape              Param #   \n",
      "=================================================================\n",
      "Input (InputLayer)           (None, 32, 32, 3)         0         \n",
      "_________________________________________________________________\n",
      "Grayscale (Lambda)           (None, 32, 32, 1)         0         \n",
      "_________________________________________________________________\n",
      "Conv_1 (Conv2D)              (None, 28, 28, 6)         156       \n",
      "_________________________________________________________________\n",
      "Tanh_1 (Activation)          (None, 28, 28, 6)         0         \n",
      "_________________________________________________________________\n",
      "AvgPool_1 (AveragePooling2D) (None, 14, 14, 6)         0         \n",
      "_________________________________________________________________\n",
      "Conv_2 (Conv2D)              (None, 10, 10, 16)        2416      \n",
      "_________________________________________________________________\n",
      "Tanh_2 (Activation)          (None, 10, 10, 16)        0         \n",
      "_________________________________________________________________\n",
      "AvgPool_2 (AveragePooling2D) (None, 5, 5, 16)          0         \n",
      "_________________________________________________________________\n",
      "Conv_3 (Conv2D)              (None, 1, 1, 120)         48120     \n",
      "_________________________________________________________________\n",
      "Tanh_3 (Activation)          (None, 1, 1, 120)         0         \n",
      "_________________________________________________________________\n",
      "Flatten (Flatten)            (None, 120)               0         \n",
      "_________________________________________________________________\n",
      "FC_1 (Dense)                 (None, 84)                10164     \n",
      "_________________________________________________________________\n",
      "Tanh_4 (Activation)          (None, 84)                0         \n",
      "_________________________________________________________________\n",
      "FC_2 (Dense)                 (None, 10)                850       \n",
      "_________________________________________________________________\n",
      "rbf (Activation)             (None, 10)                0         \n",
      "=================================================================\n",
      "Total params: 61,706\n",
      "Trainable params: 61,706\n",
      "Non-trainable params: 0\n",
      "_________________________________________________________________\n"
     ]
    }
   ],
   "source": [
    "model.summary()"
   ]
  },
  {
   "cell_type": "markdown",
   "metadata": {},
   "source": [
    "<h3>Compile Model</h3>"
   ]
  },
  {
   "cell_type": "code",
   "execution_count": 28,
   "metadata": {
    "collapsed": true
   },
   "outputs": [],
   "source": [
    "adam = Adam(lr=1e-4)\n",
    "\n",
    "model.compile(optimizer=adam, \\\n",
    "              loss='categorical_crossentropy', \\\n",
    "              metrics=['accuracy'])"
   ]
  },
  {
   "cell_type": "markdown",
   "metadata": {},
   "source": [
    "<h3>Create checkpoint</h3>"
   ]
  },
  {
   "cell_type": "code",
   "execution_count": 29,
   "metadata": {
    "collapsed": true
   },
   "outputs": [],
   "source": [
    "filepath = \"./checkpoint/weights_best_lenet.hdf5\"\n",
    "checkpoint = ModelCheckpoint(filepath, \\\n",
    "                             monitor=\"val_acc\", \\\n",
    "                             verbose=0, \\\n",
    "                             save_best_only=True, \\\n",
    "                             mode=\"max\")\n",
    "callbacks_list = [checkpoint]"
   ]
  },
  {
   "cell_type": "markdown",
   "metadata": {},
   "source": [
    "<h3>Fit the model</h3>"
   ]
  },
  {
   "cell_type": "code",
   "execution_count": 30,
   "metadata": {},
   "outputs": [
    {
     "name": "stdout",
     "output_type": "stream",
     "text": [
      "Train on 45000 samples, validate on 5000 samples\n",
      "Epoch 1/100\n",
      "45000/45000 [==============================] - 30s 656us/step - loss: 2.1657 - acc: 0.1954 - val_loss: 2.1224 - val_acc: 0.2304\n",
      "Epoch 2/100\n",
      "45000/45000 [==============================] - 30s 659us/step - loss: 2.0773 - acc: 0.2622 - val_loss: 2.0894 - val_acc: 0.2580\n",
      "Epoch 3/100\n",
      "45000/45000 [==============================] - 29s 638us/step - loss: 2.0565 - acc: 0.2700 - val_loss: 2.0556 - val_acc: 0.2732\n",
      "Epoch 4/100\n",
      "45000/45000 [==============================] - 29s 644us/step - loss: 2.0378 - acc: 0.2792 - val_loss: 2.0517 - val_acc: 0.2578\n",
      "Epoch 5/100\n",
      "45000/45000 [==============================] - 29s 641us/step - loss: 2.0172 - acc: 0.2870 - val_loss: 2.0232 - val_acc: 0.2830\n",
      "Epoch 6/100\n",
      "45000/45000 [==============================] - 29s 638us/step - loss: 1.9917 - acc: 0.2974 - val_loss: 2.0022 - val_acc: 0.2864\n",
      "Epoch 7/100\n",
      "45000/45000 [==============================] - 29s 646us/step - loss: 1.9635 - acc: 0.3064 - val_loss: 1.9727 - val_acc: 0.3010\n",
      "Epoch 8/100\n",
      "45000/45000 [==============================] - 29s 651us/step - loss: 1.9336 - acc: 0.3153 - val_loss: 1.9500 - val_acc: 0.3040\n",
      "Epoch 9/100\n",
      "45000/45000 [==============================] - 29s 646us/step - loss: 1.9101 - acc: 0.3201 - val_loss: 1.9194 - val_acc: 0.3110\n",
      "Epoch 10/100\n",
      "45000/45000 [==============================] - 29s 644us/step - loss: 1.8819 - acc: 0.3319 - val_loss: 1.8904 - val_acc: 0.3238\n",
      "Epoch 11/100\n",
      "45000/45000 [==============================] - 29s 647us/step - loss: 1.8597 - acc: 0.3379 - val_loss: 1.8695 - val_acc: 0.3310\n",
      "Epoch 12/100\n",
      "45000/45000 [==============================] - 29s 644us/step - loss: 1.8361 - acc: 0.3459 - val_loss: 1.8644 - val_acc: 0.3310\n",
      "Epoch 13/100\n",
      "45000/45000 [==============================] - 29s 646us/step - loss: 1.8186 - acc: 0.3516 - val_loss: 1.8366 - val_acc: 0.3420\n",
      "Epoch 14/100\n",
      "45000/45000 [==============================] - 29s 643us/step - loss: 1.8035 - acc: 0.3567 - val_loss: 1.8245 - val_acc: 0.3400\n",
      "Epoch 15/100\n",
      "45000/45000 [==============================] - 29s 649us/step - loss: 1.7837 - acc: 0.3654 - val_loss: 1.8129 - val_acc: 0.3500\n",
      "Epoch 16/100\n",
      "45000/45000 [==============================] - 29s 650us/step - loss: 1.7677 - acc: 0.3686 - val_loss: 1.8130 - val_acc: 0.3560\n",
      "Epoch 17/100\n",
      "45000/45000 [==============================] - 29s 649us/step - loss: 1.7515 - acc: 0.3767 - val_loss: 1.7876 - val_acc: 0.3578\n",
      "Epoch 18/100\n",
      "45000/45000 [==============================] - 29s 652us/step - loss: 1.7372 - acc: 0.3797 - val_loss: 1.7739 - val_acc: 0.3660\n",
      "Epoch 19/100\n",
      "45000/45000 [==============================] - 29s 652us/step - loss: 1.7224 - acc: 0.3882 - val_loss: 1.7524 - val_acc: 0.3756\n",
      "Epoch 20/100\n",
      "45000/45000 [==============================] - 30s 657us/step - loss: 1.7094 - acc: 0.3933 - val_loss: 1.7420 - val_acc: 0.3772\n",
      "Epoch 21/100\n",
      "45000/45000 [==============================] - 29s 655us/step - loss: 1.6943 - acc: 0.3972 - val_loss: 1.7355 - val_acc: 0.3778\n",
      "Epoch 22/100\n",
      "45000/45000 [==============================] - 30s 658us/step - loss: 1.6863 - acc: 0.4015 - val_loss: 1.7227 - val_acc: 0.3832\n",
      "Epoch 23/100\n",
      "45000/45000 [==============================] - 30s 658us/step - loss: 1.6735 - acc: 0.4052 - val_loss: 1.7110 - val_acc: 0.3854\n",
      "Epoch 24/100\n",
      "45000/45000 [==============================] - 29s 652us/step - loss: 1.6609 - acc: 0.4097 - val_loss: 1.7266 - val_acc: 0.3860\n",
      "Epoch 25/100\n",
      "45000/45000 [==============================] - 30s 661us/step - loss: 1.6512 - acc: 0.4124 - val_loss: 1.7084 - val_acc: 0.3834\n",
      "Epoch 26/100\n",
      "45000/45000 [==============================] - 30s 667us/step - loss: 1.6447 - acc: 0.4152 - val_loss: 1.6973 - val_acc: 0.3928\n",
      "Epoch 27/100\n",
      "45000/45000 [==============================] - 30s 656us/step - loss: 1.6332 - acc: 0.4225 - val_loss: 1.6852 - val_acc: 0.3948\n",
      "Epoch 28/100\n",
      "45000/45000 [==============================] - 30s 660us/step - loss: 1.6257 - acc: 0.4222 - val_loss: 1.6728 - val_acc: 0.3982\n",
      "Epoch 29/100\n",
      "45000/45000 [==============================] - 30s 659us/step - loss: 1.6166 - acc: 0.4259 - val_loss: 1.6718 - val_acc: 0.4008\n",
      "Epoch 30/100\n",
      "45000/45000 [==============================] - 30s 659us/step - loss: 1.6084 - acc: 0.4280 - val_loss: 1.6589 - val_acc: 0.4102\n",
      "Epoch 31/100\n",
      "45000/45000 [==============================] - 30s 660us/step - loss: 1.6023 - acc: 0.4300 - val_loss: 1.6537 - val_acc: 0.4050\n",
      "Epoch 32/100\n",
      "45000/45000 [==============================] - 30s 662us/step - loss: 1.5951 - acc: 0.4346 - val_loss: 1.6433 - val_acc: 0.4120\n",
      "Epoch 33/100\n",
      "45000/45000 [==============================] - 30s 666us/step - loss: 1.5872 - acc: 0.4364 - val_loss: 1.6439 - val_acc: 0.4128\n",
      "Epoch 34/100\n",
      "45000/45000 [==============================] - 28s 631us/step - loss: 1.5825 - acc: 0.4382 - val_loss: 1.6373 - val_acc: 0.4064\n",
      "Epoch 35/100\n",
      "45000/45000 [==============================] - 30s 664us/step - loss: 1.5756 - acc: 0.4410 - val_loss: 1.6480 - val_acc: 0.4096\n",
      "Epoch 36/100\n",
      "45000/45000 [==============================] - 30s 660us/step - loss: 1.5706 - acc: 0.4419 - val_loss: 1.6288 - val_acc: 0.4206\n",
      "Epoch 37/100\n",
      "45000/45000 [==============================] - 30s 666us/step - loss: 1.5650 - acc: 0.4454 - val_loss: 1.6356 - val_acc: 0.4150\n",
      "Epoch 38/100\n",
      "45000/45000 [==============================] - 30s 665us/step - loss: 1.5573 - acc: 0.4465 - val_loss: 1.6190 - val_acc: 0.4186\n",
      "Epoch 39/100\n",
      "45000/45000 [==============================] - 30s 664us/step - loss: 1.5526 - acc: 0.4494 - val_loss: 1.6181 - val_acc: 0.4204\n",
      "Epoch 40/100\n",
      "45000/45000 [==============================] - 30s 670us/step - loss: 1.5496 - acc: 0.4527 - val_loss: 1.6231 - val_acc: 0.4178\n",
      "Epoch 41/100\n",
      "45000/45000 [==============================] - 30s 670us/step - loss: 1.5428 - acc: 0.4524 - val_loss: 1.6216 - val_acc: 0.4202\n",
      "Epoch 42/100\n",
      "45000/45000 [==============================] - 30s 673us/step - loss: 1.5350 - acc: 0.4560 - val_loss: 1.6084 - val_acc: 0.4258\n",
      "Epoch 43/100\n",
      "45000/45000 [==============================] - 30s 671us/step - loss: 1.5338 - acc: 0.4582 - val_loss: 1.6034 - val_acc: 0.4248\n",
      "Epoch 44/100\n",
      "45000/45000 [==============================] - 31s 680us/step - loss: 1.5262 - acc: 0.4591 - val_loss: 1.6108 - val_acc: 0.4268\n",
      "Epoch 45/100\n",
      "45000/45000 [==============================] - 30s 671us/step - loss: 1.5204 - acc: 0.4608 - val_loss: 1.6051 - val_acc: 0.4270\n",
      "Epoch 46/100\n",
      "45000/45000 [==============================] - 30s 674us/step - loss: 1.5175 - acc: 0.4618 - val_loss: 1.5965 - val_acc: 0.4350\n",
      "Epoch 47/100\n",
      "45000/45000 [==============================] - 30s 672us/step - loss: 1.5098 - acc: 0.4643 - val_loss: 1.5962 - val_acc: 0.4362\n",
      "Epoch 48/100\n",
      "45000/45000 [==============================] - 30s 669us/step - loss: 1.5061 - acc: 0.4684 - val_loss: 1.6262 - val_acc: 0.4216\n",
      "Epoch 49/100\n",
      "45000/45000 [==============================] - 30s 677us/step - loss: 1.5021 - acc: 0.4677 - val_loss: 1.5752 - val_acc: 0.4414\n",
      "Epoch 50/100\n",
      "45000/45000 [==============================] - 30s 676us/step - loss: 1.4974 - acc: 0.4661 - val_loss: 1.5825 - val_acc: 0.4366\n",
      "Epoch 51/100\n",
      "45000/45000 [==============================] - 30s 676us/step - loss: 1.4923 - acc: 0.4714 - val_loss: 1.5832 - val_acc: 0.4412\n",
      "Epoch 52/100\n",
      "45000/45000 [==============================] - 31s 679us/step - loss: 1.4893 - acc: 0.4722 - val_loss: 1.5862 - val_acc: 0.4352\n",
      "Epoch 53/100\n",
      "45000/45000 [==============================] - 30s 671us/step - loss: 1.4824 - acc: 0.4743 - val_loss: 1.5694 - val_acc: 0.4374\n",
      "Epoch 54/100\n",
      "45000/45000 [==============================] - 30s 674us/step - loss: 1.4803 - acc: 0.4770 - val_loss: 1.5672 - val_acc: 0.4450\n",
      "Epoch 55/100\n",
      "45000/45000 [==============================] - 30s 669us/step - loss: 1.4758 - acc: 0.4786 - val_loss: 1.5677 - val_acc: 0.4408\n",
      "Epoch 56/100\n",
      "45000/45000 [==============================] - 30s 672us/step - loss: 1.4682 - acc: 0.4788 - val_loss: 1.5694 - val_acc: 0.4438\n",
      "Epoch 57/100\n",
      "45000/45000 [==============================] - 30s 669us/step - loss: 1.4672 - acc: 0.4804 - val_loss: 1.5657 - val_acc: 0.4418\n",
      "Epoch 58/100\n",
      "45000/45000 [==============================] - 30s 676us/step - loss: 1.4609 - acc: 0.4836 - val_loss: 1.5514 - val_acc: 0.4552\n"
     ]
    },
    {
     "name": "stdout",
     "output_type": "stream",
     "text": [
      "Epoch 59/100\n",
      "45000/45000 [==============================] - 28s 618us/step - loss: 1.4592 - acc: 0.4846 - val_loss: 1.5584 - val_acc: 0.4516\n",
      "Epoch 60/100\n",
      "45000/45000 [==============================] - 28s 623us/step - loss: 1.4524 - acc: 0.4856 - val_loss: 1.5903 - val_acc: 0.4468\n",
      "Epoch 61/100\n",
      "45000/45000 [==============================] - 28s 618us/step - loss: 1.4494 - acc: 0.4865 - val_loss: 1.5601 - val_acc: 0.4476\n",
      "Epoch 62/100\n",
      "45000/45000 [==============================] - 28s 622us/step - loss: 1.4453 - acc: 0.4880 - val_loss: 1.5494 - val_acc: 0.4546\n",
      "Epoch 63/100\n",
      "45000/45000 [==============================] - 28s 620us/step - loss: 1.4445 - acc: 0.4907 - val_loss: 1.5520 - val_acc: 0.4520\n",
      "Epoch 64/100\n",
      "45000/45000 [==============================] - 28s 621us/step - loss: 1.4372 - acc: 0.4901 - val_loss: 1.5594 - val_acc: 0.4460\n",
      "Epoch 65/100\n",
      "45000/45000 [==============================] - 28s 623us/step - loss: 1.4328 - acc: 0.4945 - val_loss: 1.5523 - val_acc: 0.4570\n",
      "Epoch 66/100\n",
      "45000/45000 [==============================] - 28s 620us/step - loss: 1.4326 - acc: 0.4935 - val_loss: 1.5370 - val_acc: 0.4574\n",
      "Epoch 67/100\n",
      "45000/45000 [==============================] - 28s 624us/step - loss: 1.4253 - acc: 0.4962 - val_loss: 1.5379 - val_acc: 0.4574\n",
      "Epoch 68/100\n",
      "45000/45000 [==============================] - 28s 617us/step - loss: 1.4212 - acc: 0.4974 - val_loss: 1.5412 - val_acc: 0.4614\n",
      "Epoch 69/100\n",
      "45000/45000 [==============================] - 29s 636us/step - loss: 1.4190 - acc: 0.4988 - val_loss: 1.5409 - val_acc: 0.4560\n",
      "Epoch 70/100\n",
      "45000/45000 [==============================] - 29s 653us/step - loss: 1.4149 - acc: 0.5016 - val_loss: 1.5337 - val_acc: 0.4598\n",
      "Epoch 71/100\n",
      "45000/45000 [==============================] - 29s 651us/step - loss: 1.4096 - acc: 0.5032 - val_loss: 1.5451 - val_acc: 0.4578\n",
      "Epoch 72/100\n",
      "45000/45000 [==============================] - 29s 651us/step - loss: 1.4060 - acc: 0.5057 - val_loss: 1.5336 - val_acc: 0.4624\n",
      "Epoch 73/100\n",
      "45000/45000 [==============================] - 30s 661us/step - loss: 1.4052 - acc: 0.5033 - val_loss: 1.5306 - val_acc: 0.4594\n",
      "Epoch 74/100\n",
      "45000/45000 [==============================] - 30s 664us/step - loss: 1.4008 - acc: 0.5052 - val_loss: 1.5278 - val_acc: 0.4688\n",
      "Epoch 75/100\n",
      "45000/45000 [==============================] - 30s 657us/step - loss: 1.3965 - acc: 0.5070 - val_loss: 1.5257 - val_acc: 0.4676\n",
      "Epoch 76/100\n",
      "45000/45000 [==============================] - 30s 658us/step - loss: 1.3949 - acc: 0.5084 - val_loss: 1.5207 - val_acc: 0.4674\n",
      "Epoch 77/100\n",
      "45000/45000 [==============================] - 30s 661us/step - loss: 1.3916 - acc: 0.5096 - val_loss: 1.5270 - val_acc: 0.4682\n",
      "Epoch 78/100\n",
      "45000/45000 [==============================] - 30s 661us/step - loss: 1.3872 - acc: 0.5109 - val_loss: 1.5315 - val_acc: 0.4654\n",
      "Epoch 79/100\n",
      "45000/45000 [==============================] - 30s 657us/step - loss: 1.3854 - acc: 0.5104 - val_loss: 1.5325 - val_acc: 0.4646\n",
      "Epoch 80/100\n",
      "45000/45000 [==============================] - 30s 656us/step - loss: 1.3806 - acc: 0.5120 - val_loss: 1.5191 - val_acc: 0.4682\n",
      "Epoch 81/100\n",
      "45000/45000 [==============================] - 29s 655us/step - loss: 1.3756 - acc: 0.5142 - val_loss: 1.5182 - val_acc: 0.4720\n",
      "Epoch 82/100\n",
      "45000/45000 [==============================] - 30s 660us/step - loss: 1.3715 - acc: 0.5168 - val_loss: 1.5102 - val_acc: 0.4738\n",
      "Epoch 83/100\n",
      "45000/45000 [==============================] - 31s 684us/step - loss: 1.3684 - acc: 0.5194 - val_loss: 1.5269 - val_acc: 0.4670\n",
      "Epoch 84/100\n",
      "45000/45000 [==============================] - 30s 657us/step - loss: 1.3664 - acc: 0.5200 - val_loss: 1.5149 - val_acc: 0.4748\n",
      "Epoch 85/100\n",
      "45000/45000 [==============================] - 29s 637us/step - loss: 1.3632 - acc: 0.5197 - val_loss: 1.5167 - val_acc: 0.4712\n",
      "Epoch 86/100\n",
      "45000/45000 [==============================] - 32s 715us/step - loss: 1.3604 - acc: 0.5207 - val_loss: 1.5223 - val_acc: 0.4654\n",
      "Epoch 87/100\n",
      "45000/45000 [==============================] - 27s 604us/step - loss: 1.3572 - acc: 0.5226 - val_loss: 1.5160 - val_acc: 0.4712\n",
      "Epoch 88/100\n",
      "45000/45000 [==============================] - 27s 597us/step - loss: 1.3558 - acc: 0.5226 - val_loss: 1.5037 - val_acc: 0.4830\n",
      "Epoch 89/100\n",
      "45000/45000 [==============================] - 27s 598us/step - loss: 1.3500 - acc: 0.5238 - val_loss: 1.5115 - val_acc: 0.4800\n",
      "Epoch 90/100\n",
      "45000/45000 [==============================] - 27s 598us/step - loss: 1.3471 - acc: 0.5260 - val_loss: 1.5168 - val_acc: 0.4700\n",
      "Epoch 91/100\n",
      "45000/45000 [==============================] - 27s 599us/step - loss: 1.3460 - acc: 0.5258 - val_loss: 1.4973 - val_acc: 0.4794\n",
      "Epoch 92/100\n",
      "45000/45000 [==============================] - 27s 599us/step - loss: 1.3409 - acc: 0.5274 - val_loss: 1.5039 - val_acc: 0.4738\n",
      "Epoch 93/100\n",
      "45000/45000 [==============================] - 27s 601us/step - loss: 1.3398 - acc: 0.5295 - val_loss: 1.5208 - val_acc: 0.4706\n",
      "Epoch 94/100\n",
      "45000/45000 [==============================] - 27s 599us/step - loss: 1.3350 - acc: 0.5320 - val_loss: 1.5116 - val_acc: 0.4762\n",
      "Epoch 95/100\n",
      "45000/45000 [==============================] - 27s 599us/step - loss: 1.3332 - acc: 0.5317 - val_loss: 1.5303 - val_acc: 0.4658\n",
      "Epoch 96/100\n",
      "45000/45000 [==============================] - 27s 604us/step - loss: 1.3274 - acc: 0.5323 - val_loss: 1.4900 - val_acc: 0.4846\n",
      "Epoch 97/100\n",
      "45000/45000 [==============================] - 27s 603us/step - loss: 1.3266 - acc: 0.5333 - val_loss: 1.5012 - val_acc: 0.4842\n",
      "Epoch 98/100\n",
      "45000/45000 [==============================] - 27s 605us/step - loss: 1.3222 - acc: 0.5354 - val_loss: 1.5103 - val_acc: 0.4752\n",
      "Epoch 99/100\n",
      "45000/45000 [==============================] - 27s 604us/step - loss: 1.3219 - acc: 0.5364 - val_loss: 1.4977 - val_acc: 0.4770\n",
      "Epoch 100/100\n",
      "45000/45000 [==============================] - 27s 604us/step - loss: 1.3191 - acc: 0.5361 - val_loss: 1.4924 - val_acc: 0.4842\n"
     ]
    }
   ],
   "source": [
    "history = model.fit(X_train, y_train, \\\n",
    "                    validation_data=(X_valid, y_valid), \\\n",
    "                    epochs=100, \\\n",
    "                    batch_size=128, \\\n",
    "                    callbacks=callbacks_list, \\\n",
    "                    verbose=1)"
   ]
  },
  {
   "cell_type": "markdown",
   "metadata": {
    "collapsed": true
   },
   "source": [
    "<h3>Load weights of trained model</h3>"
   ]
  },
  {
   "cell_type": "code",
   "execution_count": 16,
   "metadata": {},
   "outputs": [],
   "source": [
    "model.load_weights(\"./checkpoint/weights_best_lenet.hdf5\")"
   ]
  },
  {
   "cell_type": "markdown",
   "metadata": {},
   "source": [
    "<h3>Compile model (required to make predictions)</h3>"
   ]
  },
  {
   "cell_type": "code",
   "execution_count": 17,
   "metadata": {
    "collapsed": true
   },
   "outputs": [],
   "source": [
    "adam = Adam(lr=1e-4)\n",
    "\n",
    "model.compile(optimizer=adam, \\\n",
    "              loss='categorical_crossentropy', \\\n",
    "              metrics=['accuracy'])"
   ]
  },
  {
   "cell_type": "markdown",
   "metadata": {},
   "source": [
    "<h3>Estimate accuracy on test set</h3>"
   ]
  },
  {
   "cell_type": "code",
   "execution_count": 18,
   "metadata": {},
   "outputs": [
    {
     "name": "stdout",
     "output_type": "stream",
     "text": [
      "10000/10000 [==============================] - 7s 690us/step\n",
      "acc: 47.92%\n"
     ]
    }
   ],
   "source": [
    "X_test, y_test = test_data, test_labels\n",
    "scores = model.evaluate(X_test, y_test)\n",
    "print(\"%s: %.2f%%\" % (model.metrics_names[1], scores[1]*100))"
   ]
  }
 ],
 "metadata": {
  "kernelspec": {
   "display_name": "Python 3",
   "language": "python",
   "name": "python3"
  },
  "language_info": {
   "codemirror_mode": {
    "name": "ipython",
    "version": 3
   },
   "file_extension": ".py",
   "mimetype": "text/x-python",
   "name": "python",
   "nbconvert_exporter": "python",
   "pygments_lexer": "ipython3",
   "version": "3.6.2"
  }
 },
 "nbformat": 4,
 "nbformat_minor": 2
}
