{
 "cells": [
  {
   "cell_type": "markdown",
   "metadata": {},
   "source": [
    "<h3>Import libraries & packages</h3>"
   ]
  },
  {
   "cell_type": "code",
   "execution_count": 23,
   "metadata": {},
   "outputs": [],
   "source": [
    "import os\n",
    "import cv2\n",
    "import numpy as np\n",
    "import matplotlib.pyplot as plt\n",
    "\n",
    "from sklearn.preprocessing import LabelEncoder\n",
    "from sklearn.model_selection import train_test_split\n",
    "from keras.preprocessing.image import img_to_array\n",
    "from keras.utils import to_categorical"
   ]
  },
  {
   "cell_type": "markdown",
   "metadata": {},
   "source": [
    "<h3>Load data</h3>"
   ]
  },
  {
   "cell_type": "code",
   "execution_count": 17,
   "metadata": {},
   "outputs": [],
   "source": [
    "data = []\n",
    "labels = []\n",
    "\n",
    "PATH_DATA = \"./SMILEsmileD/SMILEs/\"\n",
    "\n",
    "directory_positive = os.fsencode(PATH_DATA + \"positives/positives7/\")\n",
    "\n",
    "for file in os.listdir(directory_positive):\n",
    "    filename = os.fsdecode(file)\n",
    "    img = cv2.cvtColor(cv2.imread(PATH_DATA + \"positives/positives7/\" + filename), \\\n",
    "                       cv2.COLOR_BGR2GRAY)\n",
    "    img = cv2.resize(img, (28, 28))\n",
    "    img = img_to_array(img)\n",
    "    data.append(img)\n",
    "    \n",
    "    label = \"positive\"\n",
    "    labels.append(label)\n",
    "\n",
    "directory_negative = os.fsencode(PATH_DATA + \"negatives/negatives7/\")\n",
    "\n",
    "for file in os.listdir(directory_negative):\n",
    "    filename = os.fsdecode(file)\n",
    "    img = cv2.cvtColor(cv2.imread(PATH_DATA + \"negatives/negatives7/\" + filename), \\\n",
    "                       cv2.COLOR_BGR2GRAY)\n",
    "    img = cv2.resize(img, (28, 28))\n",
    "    img = img_to_array(img)\n",
    "    data.append(img)\n",
    "    \n",
    "    label = \"negative\"\n",
    "    labels.append(label)"
   ]
  },
  {
   "cell_type": "markdown",
   "metadata": {},
   "source": [
    "<h3>Data preprocessing</h3>"
   ]
  },
  {
   "cell_type": "code",
   "execution_count": 30,
   "metadata": {},
   "outputs": [],
   "source": [
    "# Scale the raw pxel intensities to the range [0, 1]\n",
    "data = np.array(data, dtype=np.float32) / 255.0\n",
    "labels = np.array(labels)\n",
    "\n",
    "# Convert the labels from strings to vectors\n",
    "le = LabelEncoder().fit(labels)\n",
    "labels = to_categorical(le.transform(labels), 2) # one hot vector"
   ]
  },
  {
   "cell_type": "code",
   "execution_count": null,
   "metadata": {
    "collapsed": true
   },
   "outputs": [],
   "source": []
  }
 ],
 "metadata": {
  "kernelspec": {
   "display_name": "Python 3",
   "language": "python",
   "name": "python3"
  },
  "language_info": {
   "codemirror_mode": {
    "name": "ipython",
    "version": 3
   },
   "file_extension": ".py",
   "mimetype": "text/x-python",
   "name": "python",
   "nbconvert_exporter": "python",
   "pygments_lexer": "ipython3",
   "version": "3.6.2"
  }
 },
 "nbformat": 4,
 "nbformat_minor": 2
}
